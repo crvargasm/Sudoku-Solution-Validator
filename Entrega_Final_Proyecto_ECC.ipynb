{
  "nbformat": 4,
  "nbformat_minor": 0,
  "metadata": {
    "colab": {
      "name": "Entrega Final Proyecto ECC.ipynb",
      "provenance": [],
      "collapsed_sections": [],
      "include_colab_link": true
    },
    "kernelspec": {
      "name": "python3",
      "display_name": "Python 3"
    }
  },
  "cells": [
    {
      "cell_type": "markdown",
      "metadata": {
        "id": "view-in-github",
        "colab_type": "text"
      },
      "source": [
        "<a href=\"https://colab.research.google.com/github/crvargasm/Sudoku-Solution-Validator/blob/master/Entrega_Final_Proyecto_ECC.ipynb\" target=\"_parent\"><img src=\"https://colab.research.google.com/assets/colab-badge.svg\" alt=\"Open In Colab\"/></a>"
      ]
    },
    {
      "cell_type": "markdown",
      "metadata": {
        "id": "P2p1ZI96mP-T"
      },
      "source": [
        "**Tercera Entrega proyecto Matemáticas discretas 2020-3**\\\n",
        "Integrantes:\\\n",
        "Nicolas Hoyos Pedraza\\\n",
        "Nicolas Dario Mejia Borda\\\n",
        "Cristian Camilo Vargas Morales\n",
        "\n",
        "---\n"
      ]
    },
    {
      "cell_type": "markdown",
      "metadata": {
        "id": "8blqrD-5fbBg"
      },
      "source": [
        "**Introducción**\n",
        "\n",
        "\n",
        "\n",
        "---\n",
        "\n",
        "Uno de los grandes problemas del siglo XXI es la busqueda de alternativas a sistemas criptograficos para su uso eficiente; en 1993 Peter Shor publico su algoritmo(algoritmo de Shor) demostrando que una computadora cuantica podria en tiempo polinomial mejorar la factorización, mostrando RSA como un algoritmo obsoleto. Sin embargo, las computadoras cuánticas no se esperan que acaben su desarrollo hasta dentro de muchos años. En la actualidad el algoritmo de Shor ha sido demostrado bajo una respuesta correcta probabilistica, por lo cuál se hace necesario la busqueda de un nuevo modelo que nos permita cifrar la información de una manera optima y a su vez segura.    \n",
        "\n",
        "En 1897 Neal Koblitz publica en su libro una alternativa a los sistemas criptograficos tradicionales denominada Elliptic Curve Criptography la cuál, argumenta Koblitz, llegaria a ser mas rapida, demandaria una menor cantidad de recursos y llegaria a ser igual o mas seguro que algoritmos como RSA. \n",
        "\n",
        "Para 2005 empezaron a aparecer protocolos criptográficos como el de Diffie-Hellman en el cuál se dieron los primeros pasos para la implementación completa del primer sistema criptográfico basado en ECC. Posteriormente hacia finales de 2006 el criptoanalista y matemático Daniel J. Bernstein publica el documento con la primera implementación de software bajo dominio publico denominada curve25519, documento el cuál especifica los resultado de la primera ejecucion en tiempo real; Actualmente empresas como Apple(ios) y Facebook(WhatsApp, Messenger) implementan este algoritmo en sus productos comerciales.\n",
        " \n",
        "\n",
        "---\n",
        "\n",
        "**Materiales y métodos**\n",
        "\n",
        "\n",
        "---\n",
        "\n",
        "Para empezar utilizaremos una clave criptográfica de 256 bits(Pieza de información, secuencia de números o letras mediante la cuál se especifica el cifrado de una información), nos apoyeremos de el uso de una ecuación que defines a una curva eliptica de la forma $y^2=x^3+ax +b$, ahora bien; vamos a formar un grupo con el conjunto de puntos $G$ que forman la curva eliptica, la operacion binaria asociativa de la adición y un elemento especial $e$ que es el punto en el infinito o el punto impropio de la curva(conjunto de todas las soluciones de la ecuación más un punto $O$, llamado punto en el infinito), si las coordenadas $x$ y $y$ se escojen en un intervalo finito estariamos en presencia de un grupo abeliano finito(es abeliano por el simple hecho de estar tratando con la adición en números enteros).\n",
        "\n",
        "Fundamentos matemáticos: \n",
        "\n",
        "Sea $p > 3$ un número primo, la curva eliptica $E$: $y^2=x^3+ax+b$ sobre $\\mathbb{Z}_p$ es el conjunto de soluciones $(x,y)\\in \\mathbb{Z}_p \\times \\mathbb{Z}_p$ en la congruencia $y^2=x^3+ax+b \\mod p$ donde $a,b\\in \\mathbb{Z}_p$ son constantes tal que $4a^3+27b^2\\neq0(\\mod p)$.\n",
        "\n",
        "Se define la operación aditiva: \n",
        "\n",
        ">Sean $P_1=(x_1,y_1)$ y $P_2=(x_2,y_2)$ puntos en la curva $E$ y sea $O$ el punto en el infinito tal que si $x_2=x_1$ y $y_2=-y_1$, entonces $P_1+P_2=O$, de lo contrario $P_1+P_2=(x_3,y_3)$, es decir es otro punto tal que:  $x_3=\\lambda^2-x_1-x_2$ y $y_3=\\lambda(x_1-x_3)-y_1$, teniendo que \n",
        "$   \n",
        "\\lambda = \n",
        "     \\begin{cases}\n",
        "       \\frac{y_2-y_1}{x_2-x_1} &\\quad\\text{si $P_1 \\neq P_2$}\\\\\n",
        "       \\frac{3x_1^2+a}{2y_1} &\\quad\\text{si $P_1 = P_2$} \\\\ \n",
        "     \\end{cases}\n",
        "$\n",
        "\n",
        "Ejemplo:\n",
        "\n",
        "Sea $p=11$ un número primo y sea $E$ la curva eliptica $y^2=x^3+x+6$ sobre $\\mathbb{Z}_{11}$, procedemos a calcular los puntos sobre la curva verificando los posibles valores de $x\\in \\mathbb{Z}_{11}$ y luego verificamos si $z=x^3+x+6(\\mod 11)$ es un residuo cuadratico, por ende pasamos a tabular de la siguiente forma:\n",
        "\n",
        ">$x$ | $y^2$ |$y\\in \\mathbb{Z}(\\mod 11)$| $y(\\mod11)$\n",
        ">--- | --- | --- | ---\n",
        "> 0| 6 | $\\not \\exists$ | $\\not \\exists$ \n",
        "> 1|8|$\\not \\exists$|$\\not \\exists$\n",
        "> 2|16|$4,-4$|$4,7$\n",
        "> 3|36|$6,-6$|$6,5$\n",
        "> 4|74|$\\not \\exists$|$\\not \\exists$\n",
        "> 5|136|$2,-2$|$2,9$ \n",
        "> 6|228|$\\not \\exists$|$\\not \\exists$\n",
        "> 7|356|$2,-2$|$2,9$\n",
        "> 8|526|$3,-3$|$3,8$\n",
        "> 9|744|$\\not \\exists$|$\\not \\exists$\n",
        ">10|1016|$2,-2$|$2,9$\n",
        "\n",
        "Ahora viene la generación de la clave, como $E$ tiene 12 puntos más el punto $O$ entonces tenemos un grupo que es ciclico e isomorfo a $\\mathbb{Z}_{13}$vamos a hallar un punto $G$ aprovechandanos del generador $\\alpha=(2,7)$ entonces $2\\cdot \\alpha = (2,7)+(2,7)$:\n",
        "\n",
        "\\begin{align*}\n",
        "\\lambda&=(3\\cdot2^2+1)(2\\cdot7)^{-1}\\ (\\mod 11)\\\\\n",
        " &=2\\cdot3^{-1} (\\mod 11)\\\\\n",
        " &=2\\cdot4(\\mod 11)\\\\\n",
        " &=8\n",
        "\\end{align*}\n",
        "\n",
        "Ahora bien:\n",
        "\n",
        ">Reemplazamos en: $x_3=\\lambda^2-x_1-x_2 \\ $ y $\\ y_3=\\lambda(x_1-x_3)-y_1$ \\\n",
        ">ahora queda $x_3=8^2-2-2(\\mod 11)=60(\\mod11)=\\underline{5}$ \\\n",
        ">y $y_3=(8(2-5)-7)(\\mod 11)=-31(\\mod11)=\\underline{2}$ \n",
        "\n",
        "Por lo tanto obtenemos el punto $G:$ $2\\alpha=(5,2)$.\n",
        "\n",
        "Ahora ya teniendo $G$ para la transmisión de mensajes, utilizamos un protocolo basado en Diffie-Hellman llamado procedimiento de ElGamal."
      ]
    },
    {
      "cell_type": "markdown",
      "metadata": {
        "id": "_jGjXUszN9P9"
      },
      "source": [
        "Ejemplo de el procedimiento de ElGamal:\n",
        "\n",
        "Suponiendo que Bob quiere enviarle el mensaje HIJO a Alicia seguiriamos el siguiente procedimiento:\n",
        "\n",
        "Escogemos:\n",
        "Un número primo $p$ lo suficientemente grande, en este caso: $p=15485862$.\n",
        "\n",
        "Un generador $g$, tomaremos la coordenada $y$ de nuestro generador ECC:7.\n",
        "\n",
        "Una clave privada aleatoria $a$: 21702\n",
        "\n",
        "Ahora Alicia calcula $K=g^a(\\mod p)$ para hallar la clave publica $(g,p,K)$, entonces:\n",
        "\n",
        "$K=7^{21702}(\\mod 15485862)=8890431$, la clave publica será $(g,p,K)=(7,15485862,8890431)$\n",
        "\n",
        "Ahora teniendo una tabla con el alfabeto sin la ñ es decir una tabla de tamaño 27 expresamos el mensaje $m$ que Bob quiere enviar el cuál es \"HIJO\" de la siguiente manera, valor numerico de la letra $\\cdot 26^ {posicion}$, $m=7\\cdot 26^3+8\\cdot 26^2+9\\cdot 26+14=128688$.\n",
        "\n",
        "Ahora Bob escoge un número aleatorio $b$ entre $2 y p-1$ en este caso $b=480$ y luego calcula: $y_1=g^b(\\mod p)$ y $y_2=K^bm(\\mod p)$\n",
        "\n",
        "Tendremos que:\n",
        "\n",
        "$y_1=g^b(\\mod p)=7^{480}(\\mod 15485863)=12001315$\n",
        "\n",
        "$y_2=8890431^480\\cdot 1286889(\\mod 15485863)=8263449$\n",
        "\n",
        "Llegados a este punto tendriamos que el texto cifrado es $C(y_1,y_2)=(12001315,8263449)$, si lo desciframos tendriamos que el mensaje $C$ que Bob esta a punto de enviar es:\n",
        "\n",
        "$y_1=1\\cdot 26^5 + 0\\cdot 26^4 +6\\cdot 26^3 + 21\\cdot 26^2+11\\cdot 26 +1=$BAGVLB\n",
        "\n",
        "$y_2=18\\cdot 26^4 +2\\cdot 26^3 + 4\\cdot 26^2+0\\cdot 26 +25=$SCEAZ\n",
        "\n",
        "El mensaje que Bob va a enviar es : $C=$(BAGVLB,SCEAZ)\n",
        "\n",
        "Ahora Alice descifra los mensajes con ayuda de la clave privada $a=21702$ y la ecuacion $y_1^{-a}y_2=14823281\\cdot 8263449(\\mod 15485863)=\\underline{128688}$, si nos fijamos encontramos el mismo valor de $m$ por lo tanto, de esta manera Alice recibe el mensaje por parte de Bob con ayuda del algoritmo de ElGamal\n"
      ]
    },
    {
      "cell_type": "markdown",
      "metadata": {
        "id": "0vU2jz07SjzE"
      },
      "source": [
        "---\n",
        "**Resultados**\n",
        "\n",
        "Al ser un objeto de estudio y de investigación, se necesita un poco mas de tiempo para poder seguir implementado el sistema, por nuestra parte nuestra mayor dificultad radica en el hecho del analisis de cada uno de los procedimientos que se realizan en el proceso de cifrado (bajo ecc), esto debido a que en la actualidad no se encuentra muchas referencias al respecto.\n",
        "\n",
        "Para ver un ejemplo computacional en donde se realiza el calculo del punto en la curva ECC podemos acceder a este archivo por separado:\n",
        "\n",
        "https://colab.research.google.com/drive/1w1XEkPWGfpITp1fRGq1kOS8uAXqtHips?usp=sharing\n",
        "\n",
        "Se logró la implementacion de la función de descomposicion de una palabra en alfabeto latino (sin la ñ), que vendria a ser la variable $m$ del ejemplo anterior:\n",
        "\n",
        "https://colab.research.google.com/drive/1ebrQ-WJ9CoN59jL8T4LEC_I-S2y4nxgd?usp=sharing\n",
        "\n",
        "Y a su vez se presenta la implementación del procedimiento de cifrado/descifrado ElGamal con el cual procederemos a cifrar las cadenas a trabajar:\n",
        "\n",
        "https://colab.research.google.com/drive/1kUaUHqxTlS_T0oa1i0O1cIZAPImQSK7C"
      ]
    },
    {
      "cell_type": "markdown",
      "metadata": {
        "id": "L3FnU5bGSmJI"
      },
      "source": [
        "---\n",
        "**Conclusiones**\n",
        "\n",
        "Si bien, es muy apresurado afirmar que este procedimiento es inquebrantable, con tan poco implementado, podemos, matemáticamente, afirmar que gracias al problema del logaritmo discreto y de la dificultad en que radica obtener el punto aleatorio a partir de la curva eliptica el sistema presentara suficientes trabas a la hora de un ataque de fuerza bruta. \n",
        "\n",
        "Ahora si bien ECC no se usa por si solo para cifrar textos, se puede usar para verificar firmas y autenticaciones, ademas con otro algoritmo como el de ElGamal se pueden hacer aplicaciones interesantes."
      ]
    },
    {
      "cell_type": "markdown",
      "metadata": {
        "id": "9YGVB2LCSo5R"
      },
      "source": [
        "---\n",
        "**Referencias**:\n",
        "\n",
        "D. Bernstein, T. Lange. (2014) SafeCurves: choosing safe curves for elliptic-curve cryptography. https://safecurves.cr.yp.to, visitado 1 Diciembre 2020\n",
        "\n",
        "Wikipedia, la enciclopedia libre, (2020) Curve 25519. https://en.wikipedia.org/wiki/Curve25519, visitado 1 Diciembre 2020\n",
        "\n",
        "Apple Inc. (2020) Seguridad de la plataforma Apple. https://manuals.info.apple.com/MANUALS/1000/MA1902/es_MX/apple-platform-security-guide-e.pdf, visitado 1 Diciembre 2020\n",
        "\n",
        "D. Kline(2016) ELLIPTIC CURVES AND CRYPTOGRAPHY\n",
        "http://math.uchicago.edu/~may/REU2016/REUPapers/Kline.pdf, visitado 1 Diciembre 2020\n",
        "\n",
        "Bitcoin wiki(2012) Secp256k1 https://es.bitcoin.it/wiki/Secp256k1, visitado 1 Diciembre 2020\n",
        "\n",
        "Wikipedia, la enciclopedia libre, (2020) Cifrado ElGamal https://es.wikipedia.org/wiki/Cifrado_ElGamal, visitado 5 Diciembre 2020"
      ]
    },
    {
      "cell_type": "code",
      "metadata": {
        "id": "3RzuO9418OP5"
      },
      "source": [
        ""
      ],
      "execution_count": null,
      "outputs": []
    }
  ]
}